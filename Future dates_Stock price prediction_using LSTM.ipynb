{
 "cells": [
  {
   "cell_type": "code",
   "execution_count": null,
   "metadata": {},
   "outputs": [],
   "source": [
    "#Import my dependencies\n",
    "import numpy as np\n",
    "import pandas as pd\n",
    "import matplotlib.pyplot as plt\n",
    "from sklearn.preprocessing import MinMaxScaler\n",
    "from keras.models import Sequential, load_model\n",
    "from keras.layers import LSTM, Dense, Dropout\n",
    "import os\n",
    "import tensorflow as tf"
   ]
  },
  {
   "cell_type": "code",
   "execution_count": 4,
   "metadata": {
    "scrolled": false
   },
   "outputs": [
    {
     "data": {
      "text/html": [
       "<div>\n",
       "<style scoped>\n",
       "    .dataframe tbody tr th:only-of-type {\n",
       "        vertical-align: middle;\n",
       "    }\n",
       "\n",
       "    .dataframe tbody tr th {\n",
       "        vertical-align: top;\n",
       "    }\n",
       "\n",
       "    .dataframe thead th {\n",
       "        text-align: right;\n",
       "    }\n",
       "</style>\n",
       "<table border=\"1\" class=\"dataframe\">\n",
       "  <thead>\n",
       "    <tr style=\"text-align: right;\">\n",
       "      <th></th>\n",
       "      <th>date</th>\n",
       "      <th>open</th>\n",
       "      <th>high</th>\n",
       "      <th>low</th>\n",
       "      <th>close</th>\n",
       "      <th>volume</th>\n",
       "      <th>Name</th>\n",
       "    </tr>\n",
       "  </thead>\n",
       "  <tbody>\n",
       "    <tr>\n",
       "      <th>0</th>\n",
       "      <td>2013-02-08</td>\n",
       "      <td>67.7142</td>\n",
       "      <td>68.4014</td>\n",
       "      <td>66.8928</td>\n",
       "      <td>67.8542</td>\n",
       "      <td>158168416</td>\n",
       "      <td>AAPL</td>\n",
       "    </tr>\n",
       "    <tr>\n",
       "      <th>1</th>\n",
       "      <td>2013-02-11</td>\n",
       "      <td>68.0714</td>\n",
       "      <td>69.2771</td>\n",
       "      <td>67.6071</td>\n",
       "      <td>68.5614</td>\n",
       "      <td>129029425</td>\n",
       "      <td>AAPL</td>\n",
       "    </tr>\n",
       "    <tr>\n",
       "      <th>2</th>\n",
       "      <td>2013-02-12</td>\n",
       "      <td>68.5014</td>\n",
       "      <td>68.9114</td>\n",
       "      <td>66.8205</td>\n",
       "      <td>66.8428</td>\n",
       "      <td>151829363</td>\n",
       "      <td>AAPL</td>\n",
       "    </tr>\n",
       "    <tr>\n",
       "      <th>3</th>\n",
       "      <td>2013-02-13</td>\n",
       "      <td>66.7442</td>\n",
       "      <td>67.6628</td>\n",
       "      <td>66.1742</td>\n",
       "      <td>66.7156</td>\n",
       "      <td>118721995</td>\n",
       "      <td>AAPL</td>\n",
       "    </tr>\n",
       "    <tr>\n",
       "      <th>4</th>\n",
       "      <td>2013-02-14</td>\n",
       "      <td>66.3599</td>\n",
       "      <td>67.3771</td>\n",
       "      <td>66.2885</td>\n",
       "      <td>66.6556</td>\n",
       "      <td>88809154</td>\n",
       "      <td>AAPL</td>\n",
       "    </tr>\n",
       "  </tbody>\n",
       "</table>\n",
       "</div>"
      ],
      "text/plain": [
       "         date     open     high      low    close     volume  Name\n",
       "0  2013-02-08  67.7142  68.4014  66.8928  67.8542  158168416  AAPL\n",
       "1  2013-02-11  68.0714  69.2771  67.6071  68.5614  129029425  AAPL\n",
       "2  2013-02-12  68.5014  68.9114  66.8205  66.8428  151829363  AAPL\n",
       "3  2013-02-13  66.7442  67.6628  66.1742  66.7156  118721995  AAPL\n",
       "4  2013-02-14  66.3599  67.3771  66.2885  66.6556   88809154  AAPL"
      ]
     },
     "execution_count": 4,
     "metadata": {},
     "output_type": "execute_result"
    }
   ],
   "source": [
    "df = pd.read_csv(\"../AAPL.csv\")\n",
    "df.head()"
   ]
  },
  {
   "cell_type": "code",
   "execution_count": 5,
   "metadata": {
    "scrolled": true
   },
   "outputs": [
    {
     "name": "stdout",
     "output_type": "stream",
     "text": [
      "(1259, 1)\n"
     ]
    },
    {
     "data": {
      "text/plain": [
       "array([[67.7142],\n",
       "       [68.0714],\n",
       "       [68.5014],\n",
       "       [66.7442],\n",
       "       [66.3599],\n",
       "       [66.9785],\n",
       "       [65.8714]])"
      ]
     },
     "execution_count": 5,
     "metadata": {},
     "output_type": "execute_result"
    }
   ],
   "source": [
    "#preprocessing our data\n",
    "df = df['open'].values\n",
    "df = df.reshape(-1,1)\n",
    "print(df.shape)\n",
    "df[:7]"
   ]
  },
  {
   "cell_type": "code",
   "execution_count": 6,
   "metadata": {},
   "outputs": [
    {
     "name": "stdout",
     "output_type": "stream",
     "text": [
      "(1007, 1)\n",
      "(302, 1)\n"
     ]
    }
   ],
   "source": [
    "dataset_train = np.array(df[:int(df.shape[0]*0.8)])\n",
    "dataset_test = np.array(df[int(df.shape[0]*0.8)-50:])\n",
    "print(dataset_train.shape)\n",
    "print(dataset_test.shape)"
   ]
  },
  {
   "cell_type": "code",
   "execution_count": 7,
   "metadata": {
    "scrolled": true
   },
   "outputs": [
    {
     "data": {
      "text/plain": [
       "array([[0.15550899],\n",
       "       [0.16002875],\n",
       "       [0.16546966],\n",
       "       [0.1432353 ],\n",
       "       [0.13837263],\n",
       "       [0.14619996],\n",
       "       [0.1321915 ]])"
      ]
     },
     "execution_count": 7,
     "metadata": {},
     "output_type": "execute_result"
    }
   ],
   "source": [
    "scaler = MinMaxScaler(feature_range=(0,1))\n",
    "dataset_train = scaler.fit_transform(dataset_train)\n",
    "dataset_train[:7]"
   ]
  },
  {
   "cell_type": "code",
   "execution_count": 8,
   "metadata": {},
   "outputs": [
    {
     "data": {
      "text/plain": [
       "array([[0.7048619 ],\n",
       "       [0.70865789],\n",
       "       [0.70043325],\n",
       "       [0.71080895],\n",
       "       [0.69518213],\n",
       "       [0.68006144],\n",
       "       [0.69056368]])"
      ]
     },
     "execution_count": 8,
     "metadata": {},
     "output_type": "execute_result"
    }
   ],
   "source": [
    "dataset_test = scaler.transform(dataset_test)\n",
    "dataset_test[:7]"
   ]
  },
  {
   "cell_type": "code",
   "execution_count": 9,
   "metadata": {},
   "outputs": [],
   "source": [
    "def create_my_dataset(df):\n",
    "    x = []\n",
    "    y = []\n",
    "    for i in range(50,df.shape[0]):\n",
    "        x.append(df[i-50:i,0])\n",
    "        y.append(df[i,0])\n",
    "    x = np.array(x)\n",
    "    y = np.array(y)\n",
    "    return x,y"
   ]
  },
  {
   "cell_type": "code",
   "execution_count": 10,
   "metadata": {
    "scrolled": true
   },
   "outputs": [
    {
     "data": {
      "text/plain": [
       "array([[0.15550899, 0.16002875, 0.16546966, 0.1432353 , 0.13837263,\n",
       "        0.14619996, 0.1321915 , 0.12602681, 0.10489581, 0.11077074,\n",
       "        0.11908522, 0.10095558, 0.10928904, 0.10137187, 0.09043563,\n",
       "        0.07199725, 0.06057385, 0.08412669, 0.06603248, 0.07561229,\n",
       "        0.07552245, 0.08609681, 0.07317274, 0.0810899 , 0.09030909,\n",
       "        0.09667117, 0.12929896, 0.1255384 , 0.11252448, 0.12040496,\n",
       "        0.13868011, 0.14003654, 0.12380363, 0.11180072, 0.09748478,\n",
       "        0.07163663, 0.07845043, 0.08277153, 0.06603248, 0.06666515,\n",
       "        0.06939446, 0.07254007, 0.08269814, 0.08347632, 0.07055098,\n",
       "        0.06073581, 0.0583861 , 0.03076649, 0.        , 0.00844228]])"
      ]
     },
     "execution_count": 10,
     "metadata": {},
     "output_type": "execute_result"
    }
   ],
   "source": [
    "x_train, y_train = create_my_dataset(dataset_train)\n",
    "x_train[:1]"
   ]
  },
  {
   "cell_type": "code",
   "execution_count": 11,
   "metadata": {},
   "outputs": [
    {
     "data": {
      "text/plain": [
       "array([0.02895833])"
      ]
     },
     "execution_count": 11,
     "metadata": {},
     "output_type": "execute_result"
    }
   ],
   "source": [
    "y_train[:1]"
   ]
  },
  {
   "cell_type": "code",
   "execution_count": 12,
   "metadata": {
    "scrolled": true
   },
   "outputs": [
    {
     "data": {
      "text/plain": [
       "array([[0.7048619 , 0.70865789, 0.70043325, 0.71080895, 0.69518213,\n",
       "        0.68006144, 0.69056368, 0.68423703, 0.68120024, 0.70144551,\n",
       "        0.71979279, 0.73219302, 0.73915233, 0.75433628, 0.7586384 ,\n",
       "        0.7724305 , 0.76395279, 0.77584689, 0.77660608, 0.7709121 ,\n",
       "        0.7612956 , 0.77306316, 0.78571645, 0.77217743, 0.77470809,\n",
       "        0.76395279, 0.76458545, 0.76547118, 0.77635302, 0.79115737,\n",
       "        0.80153307, 0.80115347, 0.80311474, 0.80583519, 0.79609216,\n",
       "        0.81709663, 0.80950465, 0.82279061, 0.81709663, 0.81140264,\n",
       "        0.82241101, 0.83822763, 0.84417468, 0.82886419, 0.83164791,\n",
       "        0.90604929, 0.91800665, 0.9222455 , 0.93262121, 0.95046235]])"
      ]
     },
     "execution_count": 12,
     "metadata": {},
     "output_type": "execute_result"
    }
   ],
   "source": [
    "x_test, y_test = create_my_dataset(dataset_test)\n",
    "x_test[:1]"
   ]
  },
  {
   "cell_type": "code",
   "execution_count": 15,
   "metadata": {
    "scrolled": true
   },
   "outputs": [
    {
     "name": "stdout",
     "output_type": "stream",
     "text": [
      "(957, 50, 1)\n",
      "(252, 50, 1)\n"
     ]
    }
   ],
   "source": [
    "#reshaping for LSTM\n",
    "x_train = np.reshape(x_train, (x_train.shape[0],x_train.shape[1],1))\n",
    "x_test = np.reshape(x_test, (x_test.shape[0], x_test.shape[1],1))\n",
    "print(x_train.shape)\n",
    "print(x_test.shape)"
   ]
  },
  {
   "cell_type": "code",
   "execution_count": 22,
   "metadata": {},
   "outputs": [],
   "source": [
    "from tensorflow import keras"
   ]
  },
  {
   "cell_type": "code",
   "execution_count": 24,
   "metadata": {},
   "outputs": [],
   "source": [
    "import logging"
   ]
  },
  {
   "cell_type": "code",
   "execution_count": 26,
   "metadata": {},
   "outputs": [
    {
     "name": "stdout",
     "output_type": "stream",
     "text": [
      "WARNING:tensorflow:From /opt/anaconda3/envs/tf2/lib/python3.7/site-packages/tensorflow/python/compat/v2_compat.py:96: disable_resource_variables (from tensorflow.python.ops.variable_scope) is deprecated and will be removed in a future version.\n",
      "Instructions for updating:\n",
      "non-resource variables are not supported in the long term\n"
     ]
    }
   ],
   "source": [
    "import tensorflow.compat.v1 as tf\n",
    "tf.disable_v2_behavior()"
   ]
  },
  {
   "cell_type": "code",
   "execution_count": null,
   "metadata": {},
   "outputs": [],
   "source": []
  },
  {
   "cell_type": "code",
   "execution_count": 27,
   "metadata": {},
   "outputs": [],
   "source": [
    "tf.logging.set_verbosity(tf.logging.ERROR)\n",
    "model = Sequential()\n",
    "model.add(LSTM(units=96, return_sequences=True, input_shape=(x_train.shape[1],1)))\n",
    "model.add(Dropout(0.2))\n",
    "model.add(LSTM(units=96, return_sequences=True))\n",
    "model.add(Dropout(0.2))\n",
    "model.add(LSTM(units=96))\n",
    "model.add(Dropout(0.2))\n",
    "model.add(Dense(units=1))"
   ]
  },
  {
   "cell_type": "code",
   "execution_count": 28,
   "metadata": {
    "scrolled": true
   },
   "outputs": [
    {
     "name": "stdout",
     "output_type": "stream",
     "text": [
      "Model: \"sequential\"\n",
      "_________________________________________________________________\n",
      "Layer (type)                 Output Shape              Param #   \n",
      "=================================================================\n",
      "lstm (LSTM)                  (None, 50, 96)            37632     \n",
      "_________________________________________________________________\n",
      "dropout (Dropout)            (None, 50, 96)            0         \n",
      "_________________________________________________________________\n",
      "lstm_1 (LSTM)                (None, 50, 96)            74112     \n",
      "_________________________________________________________________\n",
      "dropout_1 (Dropout)          (None, 50, 96)            0         \n",
      "_________________________________________________________________\n",
      "lstm_2 (LSTM)                (None, 96)                74112     \n",
      "_________________________________________________________________\n",
      "dropout_2 (Dropout)          (None, 96)                0         \n",
      "_________________________________________________________________\n",
      "dense (Dense)                (None, 1)                 97        \n",
      "=================================================================\n",
      "Total params: 185,953\n",
      "Trainable params: 185,953\n",
      "Non-trainable params: 0\n",
      "_________________________________________________________________\n"
     ]
    }
   ],
   "source": [
    "model.summary()"
   ]
  },
  {
   "cell_type": "code",
   "execution_count": 29,
   "metadata": {},
   "outputs": [],
   "source": [
    "model.compile(loss='mean_squared_error', optimizer ='adam')"
   ]
  },
  {
   "cell_type": "code",
   "execution_count": 30,
   "metadata": {},
   "outputs": [
    {
     "name": "stdout",
     "output_type": "stream",
     "text": [
      "Train on 957 samples\n",
      "Epoch 1/50\n",
      "957/957 [==============================] - 3s 3ms/sample - loss: 0.0403\n",
      "Epoch 2/50\n",
      "957/957 [==============================] - 3s 3ms/sample - loss: 0.0060\n",
      "Epoch 3/50\n",
      "957/957 [==============================] - 3s 3ms/sample - loss: 0.0046\n",
      "Epoch 4/50\n",
      "957/957 [==============================] - 3s 3ms/sample - loss: 0.0043\n",
      "Epoch 5/50\n",
      "957/957 [==============================] - 3s 3ms/sample - loss: 0.0046\n",
      "Epoch 6/50\n",
      "957/957 [==============================] - 3s 3ms/sample - loss: 0.0045\n",
      "Epoch 7/50\n",
      "957/957 [==============================] - 3s 3ms/sample - loss: 0.0042\n",
      "Epoch 8/50\n",
      "957/957 [==============================] - 3s 3ms/sample - loss: 0.0038\n",
      "Epoch 9/50\n",
      "957/957 [==============================] - 3s 3ms/sample - loss: 0.0037\n",
      "Epoch 10/50\n",
      "957/957 [==============================] - 3s 3ms/sample - loss: 0.0039\n",
      "Epoch 11/50\n",
      "957/957 [==============================] - 3s 3ms/sample - loss: 0.0036\n",
      "Epoch 12/50\n",
      "957/957 [==============================] - 3s 3ms/sample - loss: 0.0037\n",
      "Epoch 13/50\n",
      "957/957 [==============================] - 3s 3ms/sample - loss: 0.0037\n",
      "Epoch 14/50\n",
      "957/957 [==============================] - 3s 3ms/sample - loss: 0.0036\n",
      "Epoch 15/50\n",
      "957/957 [==============================] - 3s 3ms/sample - loss: 0.0034\n",
      "Epoch 16/50\n",
      "957/957 [==============================] - 3s 3ms/sample - loss: 0.0037\n",
      "Epoch 17/50\n",
      "957/957 [==============================] - 3s 3ms/sample - loss: 0.0039\n",
      "Epoch 18/50\n",
      "957/957 [==============================] - 3s 3ms/sample - loss: 0.0033\n",
      "Epoch 19/50\n",
      "957/957 [==============================] - 3s 3ms/sample - loss: 0.0030\n",
      "Epoch 20/50\n",
      "957/957 [==============================] - 3s 3ms/sample - loss: 0.0029\n",
      "Epoch 21/50\n",
      "957/957 [==============================] - 3s 3ms/sample - loss: 0.0034\n",
      "Epoch 22/50\n",
      "957/957 [==============================] - 3s 3ms/sample - loss: 0.0035\n",
      "Epoch 23/50\n",
      "957/957 [==============================] - 3s 3ms/sample - loss: 0.0028\n",
      "Epoch 24/50\n",
      "957/957 [==============================] - 3s 3ms/sample - loss: 0.0028\n",
      "Epoch 25/50\n",
      "957/957 [==============================] - 3s 4ms/sample - loss: 0.0027\n",
      "Epoch 26/50\n",
      "957/957 [==============================] - 3s 3ms/sample - loss: 0.0037\n",
      "Epoch 27/50\n",
      "957/957 [==============================] - 3s 3ms/sample - loss: 0.0029\n",
      "Epoch 28/50\n",
      "957/957 [==============================] - 4s 4ms/sample - loss: 0.0025\n",
      "Epoch 29/50\n",
      "957/957 [==============================] - 3s 3ms/sample - loss: 0.0025\n",
      "Epoch 30/50\n",
      "957/957 [==============================] - 3s 3ms/sample - loss: 0.0029\n",
      "Epoch 31/50\n",
      "957/957 [==============================] - 4s 4ms/sample - loss: 0.0026\n",
      "Epoch 32/50\n",
      "957/957 [==============================] - 3s 3ms/sample - loss: 0.0026\n",
      "Epoch 33/50\n",
      "957/957 [==============================] - 3s 3ms/sample - loss: 0.0026\n",
      "Epoch 34/50\n",
      "957/957 [==============================] - 3s 3ms/sample - loss: 0.0037\n",
      "Epoch 35/50\n",
      "957/957 [==============================] - 3s 3ms/sample - loss: 0.0024\n",
      "Epoch 36/50\n",
      "957/957 [==============================] - 3s 3ms/sample - loss: 0.0027\n",
      "Epoch 37/50\n",
      "957/957 [==============================] - 3s 3ms/sample - loss: 0.0025\n",
      "Epoch 38/50\n",
      "957/957 [==============================] - 3s 3ms/sample - loss: 0.0023\n",
      "Epoch 39/50\n",
      "957/957 [==============================] - 3s 3ms/sample - loss: 0.0025\n",
      "Epoch 40/50\n",
      "957/957 [==============================] - 3s 4ms/sample - loss: 0.0024\n",
      "Epoch 41/50\n",
      "957/957 [==============================] - 3s 3ms/sample - loss: 0.0024\n",
      "Epoch 42/50\n",
      "957/957 [==============================] - 3s 3ms/sample - loss: 0.0022\n",
      "Epoch 43/50\n",
      "957/957 [==============================] - 3s 3ms/sample - loss: 0.0021\n",
      "Epoch 44/50\n",
      "957/957 [==============================] - ETA: 0s - loss: 0.002 - 3s 3ms/sample - loss: 0.0023\n",
      "Epoch 45/50\n",
      "957/957 [==============================] - 3s 3ms/sample - loss: 0.0023\n",
      "Epoch 46/50\n",
      "957/957 [==============================] - 3s 3ms/sample - loss: 0.0022\n",
      "Epoch 47/50\n",
      "957/957 [==============================] - 3s 3ms/sample - loss: 0.0021\n",
      "Epoch 48/50\n",
      "957/957 [==============================] - 3s 3ms/sample - loss: 0.0025\n",
      "Epoch 49/50\n",
      "957/957 [==============================] - 3s 3ms/sample - loss: 0.0022\n",
      "Epoch 50/50\n",
      "957/957 [==============================] - 3s 3ms/sample - loss: 0.0021\n"
     ]
    }
   ],
   "source": [
    "if(not os.path.exists(r'C:\\Users\\Desktop\\LSTM\\stock_prediction.h5')):\n",
    "    model.fit(x_train, y_train, epochs=50, batch_size=32)\n",
    "    model.save(r'C:\\Users\\Desktop\\LSTM\\stock_prediction.h5')"
   ]
  },
  {
   "cell_type": "code",
   "execution_count": 33,
   "metadata": {},
   "outputs": [
    {
     "name": "stdout",
     "output_type": "stream",
     "text": [
      "Model: \"sequential\"\n",
      "_________________________________________________________________\n",
      "Layer (type)                 Output Shape              Param #   \n",
      "=================================================================\n",
      "lstm (LSTM)                  (None, 50, 96)            37632     \n",
      "_________________________________________________________________\n",
      "dropout (Dropout)            (None, 50, 96)            0         \n",
      "_________________________________________________________________\n",
      "lstm_1 (LSTM)                (None, 50, 96)            74112     \n",
      "_________________________________________________________________\n",
      "dropout_1 (Dropout)          (None, 50, 96)            0         \n",
      "_________________________________________________________________\n",
      "lstm_2 (LSTM)                (None, 96)                74112     \n",
      "_________________________________________________________________\n",
      "dropout_2 (Dropout)          (None, 96)                0         \n",
      "_________________________________________________________________\n",
      "dense (Dense)                (None, 1)                 97        \n",
      "=================================================================\n",
      "Total params: 185,953\n",
      "Trainable params: 185,953\n",
      "Non-trainable params: 0\n",
      "_________________________________________________________________\n"
     ]
    }
   ],
   "source": [
    "model.summary()"
   ]
  },
  {
   "cell_type": "code",
   "execution_count": 283,
   "metadata": {
    "scrolled": true
   },
   "outputs": [
    {
     "name": "stdout",
     "output_type": "stream",
     "text": [
      "range(1007, 1259)\n"
     ]
    },
    {
     "data": {
      "image/png": "[encoded data removed]",
      "text/plain": [
       "<Figure size 576x288 with 1 Axes>"
      ]
     },
     "metadata": {
      "needs_background": "light"
     },
     "output_type": "display_data"
    }
   ],
   "source": [
    "#visualizing our predictions\n",
    "%matplotlib inline\n",
    "predictions = model.predict(x_test)\n",
    "predictions = scaler.inverse_transform(predictions)\n",
    "\n",
    "fig, ax = plt.subplots(figsize=(8,4))\n",
    "plt.plot(df, color='red', label='original Stockprice')\n",
    "ax.plot(range(len(y_train)+50, len(y_train)+50+len(predictions)),predictions,color='blue', label='predicted')\n",
    "plt.legend()\n",
    "plt.grid()\n",
    "print(range(len(y_train)+50, len(y_train)+50+len(predictions)))"
   ]
  },
  {
   "cell_type": "code",
   "execution_count": 284,
   "metadata": {},
   "outputs": [
    {
     "data": {
      "text/plain": [
       "<matplotlib.legend.Legend at 0x1520a6ed0>"
      ]
     },
     "execution_count": 284,
     "metadata": {},
     "output_type": "execute_result"
    },
    {
     "data": {
      "image/png": "[encoded data removed]",
      "text/plain": [
       "<Figure size 576x288 with 1 Axes>"
      ]
     },
     "metadata": {
      "needs_background": "light"
     },
     "output_type": "display_data"
    }
   ],
   "source": [
    "y_test_scaled = scaler.inverse_transform(y_test.reshape(-1,1))\n",
    "\n",
    "fig, ax = plt.subplots(figsize=(8,4))\n",
    "ax.plot(y_test_scaled, color='red', label = 'True Price of testing set')\n",
    "plt.plot(predictions, color = 'blue', label='predicted')\n",
    "plt.grid()\n",
    "plt.legend()"
   ]
  },
  {
   "cell_type": "code",
   "execution_count": 43,
   "metadata": {},
   "outputs": [
    {
     "data": {
      "text/plain": [
       "(252, 50, 1)"
      ]
     },
     "execution_count": 43,
     "metadata": {},
     "output_type": "execute_result"
    }
   ],
   "source": [
    "x_test.shape"
   ]
  },
  {
   "cell_type": "code",
   "execution_count": null,
   "metadata": {},
   "outputs": [],
   "source": []
  },
  {
   "cell_type": "markdown",
   "metadata": {},
   "source": [
    "# Future predictions"
   ]
  },
  {
   "cell_type": "code",
   "execution_count": 196,
   "metadata": {},
   "outputs": [
    {
     "data": {
      "text/plain": [
       "1.2720504"
      ]
     },
     "execution_count": 196,
     "metadata": {},
     "output_type": "execute_result"
    }
   ],
   "source": [
    "model.predict([[x_test[251]]])[0][0]"
   ]
  },
  {
   "cell_type": "code",
   "execution_count": 197,
   "metadata": {},
   "outputs": [],
   "source": [
    "new_x=[]"
   ]
  },
  {
   "cell_type": "code",
   "execution_count": 47,
   "metadata": {},
   "outputs": [
    {
     "data": {
      "text/plain": [
       "[[1.514293161653431],\n",
       " [1.513660496920188],\n",
       " [1.5041705259215394],\n",
       " [1.4830395238312146],\n",
       " [1.4552022755685123],\n",
       " [1.449128694129377],\n",
       " [1.481141529631485],\n",
       " [1.4378672618776474],\n",
       " [1.4181281222004585],\n",
       " [1.4374876630377016],\n",
       " [1.4559614732484043],\n",
       " [1.4396387231307282],\n",
       " [1.4769659423920798],\n",
       " [1.4813945955247823],\n",
       " [1.480129266058296],\n",
       " [1.4956928184960798],\n",
       " [1.5115094368271609],\n",
       " [1.5134074310268906],\n",
       " [1.511382903880512],\n",
       " [1.5025255976151066],\n",
       " [1.508978777894188],\n",
       " [1.4598839945945126],\n",
       " [1.4510266883291068],\n",
       " [1.4624146535274853],\n",
       " [1.45634107208835],\n",
       " [1.4517858860089987],\n",
       " [1.4817741943647285],\n",
       " [1.481900727311377],\n",
       " [1.4932886925097555],\n",
       " [1.5048031906547825],\n",
       " [1.5073338495877557],\n",
       " [1.4897457700035934],\n",
       " [1.50783998137435],\n",
       " [1.527958719891485],\n",
       " [1.5497223867150525],\n",
       " [1.5275791210515393],\n",
       " [1.568322729872404],\n",
       " [1.5587062259271067],\n",
       " [1.5421304099161337],\n",
       " [1.5421304099161337],\n",
       " [1.5414977451828906],\n",
       " [1.5067644513278364],\n",
       " [1.47506794819235],\n",
       " [1.4517858860089987],\n",
       " [1.3931378652373505],\n",
       " [1.4101565465615935],\n",
       " [1.4138892684877287],\n",
       " [1.3991481802031611],\n",
       " [1.3118404470155935],\n",
       " [1.257810878796621]]"
      ]
     },
     "execution_count": 47,
     "metadata": {},
     "output_type": "execute_result"
    }
   ],
   "source": [
    "x_test[251].tolist()"
   ]
  },
  {
   "cell_type": "code",
   "execution_count": 198,
   "metadata": {},
   "outputs": [],
   "source": [
    "#PSEDUCODE"
   ]
  },
  {
   "cell_type": "code",
   "execution_count": null,
   "metadata": {},
   "outputs": [],
   "source": [
    "0-50\n",
    "\n",
    "1-49\n",
    "add 51 = p xtest[50]\n",
    "2-50\n",
    " add 52 =p xtest[51]\n",
    "    "
   ]
  },
  {
   "cell_type": "code",
   "execution_count": 136,
   "metadata": {},
   "outputs": [],
   "source": [
    "n_data=x_test[251].tolist()"
   ]
  },
  {
   "cell_type": "code",
   "execution_count": 108,
   "metadata": {},
   "outputs": [
    {
     "data": {
      "text/plain": [
       "1.2720504"
      ]
     },
     "execution_count": 108,
     "metadata": {},
     "output_type": "execute_result"
    }
   ],
   "source": [
    "model.predict([[n_data[0:50]]])[0][0]"
   ]
  },
  {
   "cell_type": "code",
   "execution_count": 167,
   "metadata": {},
   "outputs": [
    {
     "name": "stdout",
     "output_type": "stream",
     "text": [
      "0\n",
      "0 50\n",
      "50 LEN\n",
      "[[1.2720504]] PREDICT\n",
      "NEW_LEN 51\n",
      "1\n",
      "1 51\n",
      "50 LEN\n",
      "[[1.2443871]] PREDICT\n",
      "NEW_LEN 52\n",
      "2\n",
      "2 52\n",
      "50 LEN\n",
      "[[1.219496]] PREDICT\n",
      "NEW_LEN 53\n",
      "3\n",
      "3 53\n",
      "50 LEN\n",
      "[[1.1976318]] PREDICT\n",
      "NEW_LEN 54\n",
      "4\n",
      "4 54\n",
      "50 LEN\n",
      "[[1.1784766]] PREDICT\n",
      "NEW_LEN 55\n",
      "5\n",
      "5 55\n",
      "50 LEN\n",
      "[[1.1616511]] PREDICT\n",
      "NEW_LEN 56\n",
      "6\n",
      "6 56\n",
      "50 LEN\n",
      "[[1.1468365]] PREDICT\n",
      "NEW_LEN 57\n",
      "7\n",
      "7 57\n",
      "50 LEN\n",
      "[[1.1337676]] PREDICT\n",
      "NEW_LEN 58\n",
      "8\n",
      "8 58\n",
      "50 LEN\n",
      "[[1.1222103]] PREDICT\n",
      "NEW_LEN 59\n",
      "9\n",
      "9 59\n",
      "50 LEN\n",
      "[[1.1119452]] PREDICT\n",
      "NEW_LEN 60\n",
      "10\n",
      "10 60\n",
      "50 LEN\n",
      "[[1.1027634]] PREDICT\n",
      "NEW_LEN 61\n",
      "11\n",
      "11 61\n",
      "50 LEN\n",
      "[[1.0944698]] PREDICT\n",
      "NEW_LEN 62\n",
      "12\n",
      "12 62\n",
      "50 LEN\n",
      "[[1.0868857]] PREDICT\n",
      "NEW_LEN 63\n",
      "13\n",
      "13 63\n",
      "50 LEN\n",
      "[[1.0798514]] PREDICT\n",
      "NEW_LEN 64\n",
      "14\n",
      "14 64\n",
      "50 LEN\n",
      "[[1.07323]] PREDICT\n",
      "NEW_LEN 65\n",
      "15\n",
      "15 65\n",
      "50 LEN\n",
      "[[1.0669072]] PREDICT\n",
      "NEW_LEN 66\n",
      "16\n",
      "16 66\n",
      "50 LEN\n",
      "[[1.0607907]] PREDICT\n",
      "NEW_LEN 67\n",
      "17\n",
      "17 67\n",
      "50 LEN\n",
      "[[1.0548083]] PREDICT\n",
      "NEW_LEN 68\n",
      "18\n",
      "18 68\n",
      "50 LEN\n",
      "[[1.048908]] PREDICT\n",
      "NEW_LEN 69\n",
      "19\n",
      "19 69\n",
      "50 LEN\n",
      "[[1.0430533]] PREDICT\n",
      "NEW_LEN 70\n",
      "20\n",
      "20 70\n",
      "50 LEN\n",
      "[[1.0372221]] PREDICT\n",
      "NEW_LEN 71\n",
      "21\n",
      "21 71\n",
      "50 LEN\n",
      "[[1.0314033]] PREDICT\n",
      "NEW_LEN 72\n",
      "22\n",
      "22 72\n",
      "50 LEN\n",
      "[[1.0255963]] PREDICT\n",
      "NEW_LEN 73\n",
      "23\n",
      "23 73\n",
      "50 LEN\n",
      "[[1.0198054]] PREDICT\n",
      "NEW_LEN 74\n",
      "24\n",
      "24 74\n",
      "50 LEN\n",
      "[[1.0140406]] PREDICT\n",
      "NEW_LEN 75\n",
      "25\n",
      "25 75\n",
      "50 LEN\n",
      "[[1.0083157]] PREDICT\n",
      "NEW_LEN 76\n",
      "26\n",
      "26 76\n",
      "50 LEN\n",
      "[[1.0026455]] PREDICT\n",
      "NEW_LEN 77\n",
      "27\n",
      "27 77\n",
      "50 LEN\n",
      "[[0.99704427]] PREDICT\n",
      "NEW_LEN 78\n",
      "28\n",
      "28 78\n",
      "50 LEN\n",
      "[[0.9915275]] PREDICT\n",
      "NEW_LEN 79\n",
      "29\n",
      "29 79\n",
      "50 LEN\n",
      "[[0.98610836]] PREDICT\n",
      "NEW_LEN 80\n",
      "30\n",
      "30 80\n",
      "50 LEN\n",
      "[[0.9807983]] PREDICT\n",
      "NEW_LEN 81\n",
      "31\n",
      "31 81\n",
      "50 LEN\n",
      "[[0.9756069]] PREDICT\n",
      "NEW_LEN 82\n",
      "32\n",
      "32 82\n",
      "50 LEN\n",
      "[[0.97054255]] PREDICT\n",
      "NEW_LEN 83\n",
      "33\n",
      "33 83\n",
      "50 LEN\n",
      "[[0.9656091]] PREDICT\n",
      "NEW_LEN 84\n",
      "34\n",
      "34 84\n",
      "50 LEN\n",
      "[[0.9608107]] PREDICT\n",
      "NEW_LEN 85\n",
      "35\n",
      "35 85\n",
      "50 LEN\n",
      "[[0.9561488]] PREDICT\n",
      "NEW_LEN 86\n",
      "36\n",
      "36 86\n",
      "50 LEN\n",
      "[[0.951623]] PREDICT\n",
      "NEW_LEN 87\n",
      "37\n",
      "37 87\n",
      "50 LEN\n",
      "[[0.94723177]] PREDICT\n",
      "NEW_LEN 88\n",
      "38\n",
      "38 88\n",
      "50 LEN\n",
      "[[0.9429722]] PREDICT\n",
      "NEW_LEN 89\n",
      "39\n",
      "39 89\n",
      "50 LEN\n",
      "[[0.9388409]] PREDICT\n",
      "NEW_LEN 90\n",
      "40\n",
      "40 90\n",
      "50 LEN\n",
      "[[0.934833]] PREDICT\n",
      "NEW_LEN 91\n",
      "41\n",
      "41 91\n",
      "50 LEN\n",
      "[[0.93094414]] PREDICT\n",
      "NEW_LEN 92\n",
      "42\n",
      "42 92\n",
      "50 LEN\n",
      "[[0.9271683]] PREDICT\n",
      "NEW_LEN 93\n",
      "43\n",
      "43 93\n",
      "50 LEN\n",
      "[[0.9235018]] PREDICT\n",
      "NEW_LEN 94\n",
      "44\n",
      "44 94\n",
      "50 LEN\n",
      "[[0.91993755]] PREDICT\n",
      "NEW_LEN 95\n",
      "45\n",
      "45 95\n",
      "50 LEN\n",
      "[[0.9164721]] PREDICT\n",
      "NEW_LEN 96\n",
      "46\n",
      "46 96\n",
      "50 LEN\n",
      "[[0.91309875]] PREDICT\n",
      "NEW_LEN 97\n",
      "47\n",
      "47 97\n",
      "50 LEN\n",
      "[[0.9098134]] PREDICT\n",
      "NEW_LEN 98\n",
      "48\n",
      "48 98\n",
      "50 LEN\n",
      "[[0.90661216]] PREDICT\n",
      "NEW_LEN 99\n",
      "49\n",
      "49 99\n",
      "50 LEN\n",
      "[[0.9034911]] PREDICT\n",
      "NEW_LEN 100\n",
      "50\n",
      "50 100\n",
      "50 LEN\n",
      "[[0.9004464]] PREDICT\n",
      "NEW_LEN 101\n",
      "51\n",
      "51 101\n",
      "50 LEN\n",
      "[[0.8974739]] PREDICT\n",
      "NEW_LEN 102\n",
      "52\n",
      "52 102\n",
      "50 LEN\n",
      "[[0.89457065]] PREDICT\n",
      "NEW_LEN 103\n",
      "53\n",
      "53 103\n",
      "50 LEN\n",
      "[[0.89173454]] PREDICT\n",
      "NEW_LEN 104\n",
      "54\n",
      "54 104\n",
      "50 LEN\n",
      "[[0.8889626]] PREDICT\n",
      "NEW_LEN 105\n",
      "55\n",
      "55 105\n",
      "50 LEN\n",
      "[[0.8862523]] PREDICT\n",
      "NEW_LEN 106\n",
      "56\n",
      "56 106\n",
      "50 LEN\n",
      "[[0.8836018]] PREDICT\n",
      "NEW_LEN 107\n",
      "57\n",
      "57 107\n",
      "50 LEN\n",
      "[[0.88100904]] PREDICT\n",
      "NEW_LEN 108\n",
      "58\n",
      "58 108\n",
      "50 LEN\n",
      "[[0.87847286]] PREDICT\n",
      "NEW_LEN 109\n",
      "59\n",
      "59 109\n",
      "50 LEN\n",
      "[[0.875991]] PREDICT\n",
      "NEW_LEN 110\n",
      "60\n",
      "60 110\n",
      "50 LEN\n",
      "[[0.873562]] PREDICT\n",
      "NEW_LEN 111\n",
      "61\n",
      "61 111\n",
      "50 LEN\n",
      "[[0.87118495]] PREDICT\n",
      "NEW_LEN 112\n",
      "62\n",
      "62 112\n",
      "50 LEN\n",
      "[[0.86885816]] PREDICT\n",
      "NEW_LEN 113\n",
      "63\n",
      "63 113\n",
      "50 LEN\n",
      "[[0.86658025]] PREDICT\n",
      "NEW_LEN 114\n",
      "64\n",
      "64 114\n",
      "50 LEN\n",
      "[[0.8643506]] PREDICT\n",
      "NEW_LEN 115\n",
      "65\n",
      "65 115\n",
      "50 LEN\n",
      "[[0.8621676]] PREDICT\n",
      "NEW_LEN 116\n",
      "66\n",
      "66 116\n",
      "50 LEN\n",
      "[[0.8600306]] PREDICT\n",
      "NEW_LEN 117\n",
      "67\n",
      "67 117\n",
      "50 LEN\n",
      "[[0.8579376]] PREDICT\n",
      "NEW_LEN 118\n",
      "68\n",
      "68 118\n",
      "50 LEN\n",
      "[[0.8558888]] PREDICT\n",
      "NEW_LEN 119\n",
      "69\n",
      "69 119\n",
      "50 LEN\n",
      "[[0.85388196]] PREDICT\n",
      "NEW_LEN 120\n",
      "70\n",
      "70 120\n",
      "50 LEN\n",
      "[[0.8519171]] PREDICT\n",
      "NEW_LEN 121\n",
      "71\n",
      "71 121\n",
      "50 LEN\n",
      "[[0.84999275]] PREDICT\n",
      "NEW_LEN 122\n",
      "72\n",
      "72 122\n",
      "50 LEN\n",
      "[[0.84810793]] PREDICT\n",
      "NEW_LEN 123\n",
      "73\n",
      "73 123\n",
      "50 LEN\n",
      "[[0.8462615]] PREDICT\n",
      "NEW_LEN 124\n",
      "74\n",
      "74 124\n",
      "50 LEN\n",
      "[[0.844453]] PREDICT\n",
      "NEW_LEN 125\n",
      "75\n",
      "75 125\n",
      "50 LEN\n",
      "[[0.8426808]] PREDICT\n",
      "NEW_LEN 126\n",
      "76\n",
      "76 126\n",
      "50 LEN\n",
      "[[0.8409449]] PREDICT\n",
      "NEW_LEN 127\n",
      "77\n",
      "77 127\n",
      "50 LEN\n",
      "[[0.8392436]] PREDICT\n",
      "NEW_LEN 128\n",
      "78\n",
      "78 128\n",
      "50 LEN\n",
      "[[0.83757645]] PREDICT\n",
      "NEW_LEN 129\n",
      "79\n",
      "79 129\n",
      "50 LEN\n",
      "[[0.8359427]] PREDICT\n",
      "NEW_LEN 130\n",
      "80\n",
      "80 130\n",
      "50 LEN\n",
      "[[0.8343414]] PREDICT\n",
      "NEW_LEN 131\n",
      "81\n",
      "81 131\n",
      "50 LEN\n",
      "[[0.83277154]] PREDICT\n",
      "NEW_LEN 132\n",
      "82\n",
      "82 132\n",
      "50 LEN\n",
      "[[0.8312326]] PREDICT\n",
      "NEW_LEN 133\n",
      "83\n",
      "83 133\n",
      "50 LEN\n",
      "[[0.8297237]] PREDICT\n",
      "NEW_LEN 134\n",
      "84\n",
      "84 134\n",
      "50 LEN\n",
      "[[0.82824427]] PREDICT\n",
      "NEW_LEN 135\n",
      "85\n",
      "85 135\n",
      "50 LEN\n",
      "[[0.8267935]] PREDICT\n",
      "NEW_LEN 136\n",
      "86\n",
      "86 136\n",
      "50 LEN\n",
      "[[0.8253708]] PREDICT\n",
      "NEW_LEN 137\n",
      "87\n",
      "87 137\n",
      "50 LEN\n",
      "[[0.8239755]] PREDICT\n",
      "NEW_LEN 138\n",
      "88\n",
      "88 138\n",
      "50 LEN\n",
      "[[0.82260656]] PREDICT\n",
      "NEW_LEN 139\n",
      "89\n",
      "89 139\n",
      "50 LEN\n",
      "[[0.82126373]] PREDICT\n",
      "NEW_LEN 140\n",
      "90\n",
      "90 140\n",
      "50 LEN\n",
      "[[0.81994647]] PREDICT\n",
      "NEW_LEN 141\n",
      "91\n",
      "91 141\n",
      "50 LEN\n",
      "[[0.8186542]] PREDICT\n",
      "NEW_LEN 142\n",
      "92\n",
      "92 142\n",
      "50 LEN\n",
      "[[0.8173862]] PREDICT\n",
      "NEW_LEN 143\n",
      "93\n",
      "93 143\n",
      "50 LEN\n",
      "[[0.8161416]] PREDICT\n",
      "NEW_LEN 144\n",
      "94\n",
      "94 144\n",
      "50 LEN\n",
      "[[0.8149206]] PREDICT\n",
      "NEW_LEN 145\n",
      "95\n",
      "95 145\n",
      "50 LEN\n",
      "[[0.8137222]] PREDICT\n",
      "NEW_LEN 146\n",
      "96\n",
      "96 146\n",
      "50 LEN\n",
      "[[0.812546]] PREDICT\n",
      "NEW_LEN 147\n",
      "97\n",
      "97 147\n",
      "50 LEN\n",
      "[[0.81139165]] PREDICT\n",
      "NEW_LEN 148\n",
      "98\n",
      "98 148\n",
      "50 LEN\n",
      "[[0.8102581]] PREDICT\n",
      "NEW_LEN 149\n",
      "99\n",
      "99 149\n",
      "50 LEN\n",
      "[[0.80914557]] PREDICT\n",
      "NEW_LEN 150\n"
     ]
    }
   ],
   "source": [
    "n_data=x_test[251].tolist()\n",
    "f=[]\n",
    "for i in range(0,100):\n",
    "    print(i)\n",
    "    n_data2=n_data[i:50+i]\n",
    "    print(i,50+i)\n",
    "    print(len(n_data2),\"LEN\")\n",
    "    #p=model.predict(np.array([n_data[0+i:50+i]]))\n",
    "    p=model.predict([[np.array(n_data2)]])\n",
    "    print(p,\"PREDICT\")\n",
    "    f.append(p[0][0])\n",
    "    n_data.append([p[0][0]]) \n",
    "    print(\"NEW_LEN\",len(n_data))\n",
    "    \n",
    "    #n_data=n_data[0+i:50+i]\n",
    "    "
   ]
  },
  {
   "cell_type": "code",
   "execution_count": 204,
   "metadata": {},
   "outputs": [
    {
     "data": {
      "image/png": "[encoded data removed]",
      "text/plain": [
       "<Figure size 1080x360 with 1 Axes>"
      ]
     },
     "metadata": {
      "needs_background": "light"
     },
     "output_type": "display_data"
    }
   ],
   "source": [
    "plt.figure(figsize=(15,5))\n",
    "plt.plot(f)\n",
    "plt.grid()"
   ]
  },
  {
   "cell_type": "code",
   "execution_count": 75,
   "metadata": {},
   "outputs": [
    {
     "data": {
      "text/plain": [
       "[1.513660496920188]"
      ]
     },
     "execution_count": 75,
     "metadata": {},
     "output_type": "execute_result"
    }
   ],
   "source": [
    "new_x[1]"
   ]
  },
  {
   "cell_type": "code",
   "execution_count": 199,
   "metadata": {},
   "outputs": [],
   "source": [
    "# WE NEED TO SCALE THIS BACK"
   ]
  },
  {
   "cell_type": "code",
   "execution_count": 200,
   "metadata": {},
   "outputs": [],
   "source": [
    "f2=scaler.inverse_transform([f])"
   ]
  },
  {
   "cell_type": "code",
   "execution_count": 188,
   "metadata": {},
   "outputs": [
    {
     "data": {
      "text/plain": [
       "array([155.95535923, 153.76911196, 151.8019454 , 150.0740021 ,\n",
       "       148.56014627, 147.23041848, 146.05960758, 145.02676082,\n",
       "       144.11337495, 143.30211494, 142.57647485, 141.92102274,\n",
       "       141.32164564, 140.76571915, 140.24242771, 139.74272697,\n",
       "       139.25933433, 138.78654056, 138.32023799, 137.85753432,\n",
       "       137.39669605, 136.93682817, 136.47789299, 136.02023909,\n",
       "       135.56463901, 135.11219503, 134.66407539, 134.22140592,\n",
       "       133.78541137, 133.35713279, 132.93747461, 132.52719524,\n",
       "       132.12695417, 131.73705758, 131.35783992, 130.98940484,\n",
       "       130.63172877, 130.28468453, 129.94804602, 129.62154943,\n",
       "       129.30479908, 128.99746051, 128.69905325, 128.40928523,\n",
       "       128.12760061, 127.85372145, 127.58712489, 127.32748118,\n",
       "       127.07448412, 126.82782283, 126.58720053, 126.35227806,\n",
       "       126.12283402, 125.89869412, 125.67962754, 125.46542701,\n",
       "       125.25595593, 125.05104942, 124.85061327, 124.65446848,\n",
       "       124.462502  , 124.27464316, 124.09075536, 123.91073025,\n",
       "       123.73452074, 123.56199491, 123.39310567, 123.22769285,\n",
       "       123.06577531, 122.90717402, 122.751889  , 122.59980719,\n",
       "       122.45084851, 122.30492346, 122.16199435, 122.02193871,\n",
       "       121.88474711, 121.75029238, 121.61853682, 121.4894192 ,\n",
       "       121.36286885, 121.238801  , 121.11717795, 120.99792904,\n",
       "       120.88100717, 120.76635109, 120.65391372, 120.54364322,\n",
       "       120.4354548 , 120.32932963, 120.22522531, 120.12309474,\n",
       "       120.02288608, 119.92452399, 119.82802729, 119.73331591,\n",
       "       119.64036159, 119.54913134, 119.4595451 , 119.3716217 ])"
      ]
     },
     "execution_count": 188,
     "metadata": {},
     "output_type": "execute_result"
    }
   ],
   "source": [
    "f2.flatten()"
   ]
  },
  {
   "cell_type": "code",
   "execution_count": 201,
   "metadata": {},
   "outputs": [
    {
     "data": {
      "image/png": "[encoded data removed]",
      "text/plain": [
       "<Figure size 1080x360 with 1 Axes>"
      ]
     },
     "metadata": {
      "needs_background": "light"
     },
     "output_type": "display_data"
    }
   ],
   "source": [
    "plt.figure(figsize=(15,5))\n",
    "plt.plot(f2.flatten())\n",
    "plt.grid()"
   ]
  },
  {
   "cell_type": "code",
   "execution_count": 202,
   "metadata": {
    "scrolled": true
   },
   "outputs": [
    {
     "data": {
      "image/png": "[encoded data removed]",
      "text/plain": [
       "<Figure size 1080x360 with 1 Axes>"
      ]
     },
     "metadata": {
      "needs_background": "light"
     },
     "output_type": "display_data"
    }
   ],
   "source": [
    "plt.figure(figsize=(15,5))\n",
    "plt.plot(predictions2)\n",
    "plt.grid()"
   ]
  },
  {
   "cell_type": "code",
   "execution_count": 203,
   "metadata": {},
   "outputs": [],
   "source": [
    "#conclusion for stocks we can not predict but can reliably only show a positive and negative trend"
   ]
  },
  {
   "cell_type": "code",
   "execution_count": null,
   "metadata": {},
   "outputs": [],
   "source": []
  }
 ],
 "metadata": {
  "kernelspec": {
   "display_name": "Python 3",
   "language": "python",
   "name": "python3"
  },
  "language_info": {
   "codemirror_mode": {
    "name": "ipython",
    "version": 3
   },
   "file_extension": ".py",
   "mimetype": "text/x-python",
   "name": "python",
   "nbconvert_exporter": "python",
   "pygments_lexer": "ipython3",
   "version": "3.7.8"
  }
 },
 "nbformat": 4,
 "nbformat_minor": 2
}
